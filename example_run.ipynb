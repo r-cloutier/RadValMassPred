{
 "cells": [
  {
   "cell_type": "code",
   "execution_count": 1,
   "metadata": {},
   "outputs": [],
   "source": [
    "from masspred_system import two_planet_system, np, plt\n",
    "import radvalley_definitions as rvdef\n",
    "%matplotlib inline"
   ]
  },
  {
   "cell_type": "code",
   "execution_count": 2,
   "metadata": {},
   "outputs": [],
   "source": [
    "# define Kepler-36 planetary system\n",
    "kep36 = 0\n",
    "if kep36:\n",
    "    N = 100\n",
    "    Xiron_samp = np.random.normal(1/3,.02,N)\n",
    "    Xiron_samp = Xiron_samp[Xiron_samp>=0]\n",
    "\n",
    "    tps = two_planet_system(rvdef.define_radval_simple, N, label='Kep36')\n",
    "    tps.add_star(np.random.normal(1.071,.043,N), np.random.normal(1.626,.019,N), np.random.normal(5911,66,N))\n",
    "    tps.add_planet(13.83989, np.random.normal(1.486,.035,N), np.random.normal(4.45,.3,N), Xiron_samp)\n",
    "    tps.add_planet(16.23855, np.random.normal(3.679,.054,N), np.random.normal(8.08,.55,N), Xiron_samp)\n",
    "    #tps.add_star(1.071, 1.626, 5911)\n",
    "    #tps.add_planet(13.83989, 1.486, 4.45, 1/3)\n",
    "    #tps.add_planet(16.23855, 3.679, 8.08, 1/3)"
   ]
  },
  {
   "cell_type": "code",
   "execution_count": 2,
   "metadata": {},
   "outputs": [],
   "source": [
    "# define LTT 3780 planetary system\n",
    "ltt3780 = 1\n",
    "if ltt3780:\n",
    "    N = 100\n",
    "    Xiron_samp = np.random.normal(1/3,.02,N)\n",
    "\n",
    "    tps = two_planet_system(rvdef.define_radval_lowmassstar, N, label='ltt3780')\n",
    "    tps.add_star(np.random.normal(.401,.012,N), np.random.normal(.374,.011,N), np.random.normal(3331,157,N))\n",
    "    tps.add_planet(.77, np.random.normal(1.33,.075,N), np.random.normal(3.12,.5,N), Xiron_samp, radval_args=[.77])\n",
    "    tps.add_planet(12.25, np.random.normal(2.3,.16,N), np.random.normal(8.5,1.65,N), Xiron_samp, radval_args=[12.25])"
   ]
  },
  {
   "cell_type": "markdown",
   "metadata": {},
   "source": [
    "## test photoevaporation scenario"
   ]
  },
  {
   "cell_type": "code",
   "execution_count": 3,
   "metadata": {},
   "outputs": [
    {
     "name": "stderr",
     "output_type": "stream",
     "text": [
      "[                                                                        ]   1%\r"
     ]
    },
    {
     "name": "stdout",
     "output_type": "stream",
     "text": [
      "\n",
      "Computing the gaseous planet's minimum mass under photoevaporation (100 realizations)\n",
      "\n"
     ]
    },
    {
     "name": "stderr",
     "output_type": "stream",
     "text": [
      "/Users/ryancloutier/anaconda3/envs/my_default/lib/python3.7/site-packages/scipy/optimize/minpack.py:162: RuntimeWarning: The iteration is not making good progress, as measured by the \n",
      "  improvement from the last ten iterations.\n",
      "  warnings.warn(msg, RuntimeWarning)\n",
      "/Users/ryancloutier/Research/RadValMassPred/planetary_structure.py:81: RuntimeWarning: divide by zero encountered in log10\n",
      "  DR_solution = 10**float(fsolve(_solve_Rrcb, np.log10(DR_guess), args=args))\n",
      "/Users/ryancloutier/Research/RadValMassPred/planetary_structure.py:56: RuntimeWarning: invalid value encountered in true_divide\n",
      "  I2_I1 = I2/I1\n",
      "/Users/ryancloutier/Research/RadValMassPred/planetary_structure.py:62: RuntimeWarning: divide by zero encountered in double_scalars\n",
      "  rhorcb *= (3*kappa0 * Mearth2g(Mcore)*Xenv)**(-a)\n",
      "[========================================================================] 100%\r"
     ]
    },
    {
     "name": "stdout",
     "output_type": "stream",
     "text": [
      "Time elapsed = 286.9 seconds (4.78 minutes).\n"
     ]
    },
    {
     "name": "stderr",
     "output_type": "stream",
     "text": [
      "\n",
      "/Users/ryancloutier/anaconda3/envs/my_default/lib/python3.7/site-packages/numpy/lib/function_base.py:3405: RuntimeWarning: All-NaN slice encountered\n",
      "  r = func(a, **kwargs)\n"
     ]
    }
   ],
   "source": [
    "tps.compute_Mgas_min_photoevaporation(value_errors=False, size=100)"
   ]
  },
  {
   "cell_type": "code",
   "execution_count": 4,
   "metadata": {},
   "outputs": [
    {
     "name": "stdout",
     "output_type": "stream",
     "text": [
      "Gaseous planet measured mass = 8.235 + 1.290 - 1.692 Earth masses\n",
      "Gaseous planet minimum mass = 0.182 + 0.016 - 0.016 Earth masses\n",
      "Photoevaporation consistency rate = 1.000\n",
      "Photoevaporation model success rate = 1.000\n"
     ]
    },
    {
     "name": "stderr",
     "output_type": "stream",
     "text": [
      "/Users/ryancloutier/anaconda3/envs/my_default/lib/python3.7/site-packages/ipykernel_launcher.py:3: MatplotlibDeprecationWarning: \n",
      "The 'normed' kwarg was deprecated in Matplotlib 2.1 and will be removed in 3.1. Use 'density' instead.\n",
      "  This is separate from the ipykernel package so we can avoid doing imports until\n",
      "/Users/ryancloutier/anaconda3/envs/my_default/lib/python3.7/site-packages/ipykernel_launcher.py:4: MatplotlibDeprecationWarning: \n",
      "The 'normed' kwarg was deprecated in Matplotlib 2.1 and will be removed in 3.1. Use 'density' instead.\n",
      "  after removing the cwd from sys.path.\n"
     ]
    },
    {
     "data": {
      "image/png": "[encoded data removed]",
      "text/plain": [
       "<Figure size 432x288 with 1 Axes>"
      ]
     },
     "metadata": {
      "needs_background": "light"
     },
     "output_type": "display_data"
    }
   ],
   "source": [
    "# plot results\n",
    "mppost = np.random.randn(1000)*tps.planet_gaseous.mass[1] + tps.planet_gaseous.mass[0]\n",
    "_=plt.hist(mppost, bins=15, histtype='step', color='b', normed=1)\n",
    "p=plt.hist(tps.photoevaporation.planet_gaseous.Mmin_solution_samples, bins=15, normed=1, histtype='step', color='k', lw=2)\n",
    "plt.xlabel('Minimum mass [M$_{\\oplus}$]', fontsize=12), plt.ylabel('PDF', fontsize=12)\n",
    "plt.axvline(tps.photoevaporation.planet_gaseous.Mmin_solution[0], color='k')\n",
    "plt.axvline(tps.photoevaporation.planet_gaseous.mass[0], ls='--', color='b')\n",
    "plt.fill_between([tps.photoevaporation.planet_gaseous.Mmin_solution[0]-tps.photoevaporation.planet_gaseous.Mmin_solution[2],\n",
    "                  tps.photoevaporation.planet_gaseous.Mmin_solution[0]+tps.photoevaporation.planet_gaseous.Mmin_solution[1]], 0, 1, alpha=.5)\n",
    "print('Gaseous planet measured mass = %.3f + %.3f - %.3f Earth masses'%(tps.planet_gaseous.mass))\n",
    "print('Gaseous planet minimum mass = %.3f + %.3f - %.3f Earth masses'%(tps.photoevaporation.planet_gaseous.Mmin_solution))\n",
    "print('Photoevaporation consistency rate = %.3f'%tps.photoevaporation.planet_gaseous.frac_consistent_photoevap)\n",
    "print('Photoevaporation model success rate = %.3f'%tps.photoevaporation.planet_gaseous.frac_success_photoevap)"
   ]
  },
  {
   "cell_type": "markdown",
   "metadata": {},
   "source": [
    "## test core-powered mass loss scenario"
   ]
  },
  {
   "cell_type": "code",
   "execution_count": 5,
   "metadata": {},
   "outputs": [
    {
     "name": "stderr",
     "output_type": "stream",
     "text": [
      "[                                                                        ]   1%\r"
     ]
    },
    {
     "name": "stdout",
     "output_type": "stream",
     "text": [
      "\n",
      "Computing the gaseous planet's minimum mass under core-powered mass loss (100 realizations)\n",
      "\n"
     ]
    },
    {
     "name": "stderr",
     "output_type": "stream",
     "text": [
      "[========================================================================] 100%\r"
     ]
    },
    {
     "name": "stdout",
     "output_type": "stream",
     "text": [
      "Time elapsed = 710.7 seconds (11.85 minutes).\n"
     ]
    },
    {
     "name": "stderr",
     "output_type": "stream",
     "text": [
      "\n"
     ]
    }
   ],
   "source": [
    "tps.compute_Mgas_min_corepoweredmassloss(value_errors=False, size=100)"
   ]
  },
  {
   "cell_type": "code",
   "execution_count": 6,
   "metadata": {},
   "outputs": [
    {
     "name": "stdout",
     "output_type": "stream",
     "text": [
      "Gaseous planet measured mass = 8.235 + 1.290 - 1.692 Earth masses\n",
      "Gaseous planet minimum mass = 1.594 + 0.250 - 0.196 Earth masses\n",
      "Core-powered mass loss consistency rate = 1.000\n",
      "Core-powered mass loss model success rate = 0.780\n"
     ]
    },
    {
     "name": "stderr",
     "output_type": "stream",
     "text": [
      "/Users/ryancloutier/anaconda3/envs/my_default/lib/python3.7/site-packages/ipykernel_launcher.py:2: MatplotlibDeprecationWarning: \n",
      "The 'normed' kwarg was deprecated in Matplotlib 2.1 and will be removed in 3.1. Use 'density' instead.\n",
      "  \n",
      "/Users/ryancloutier/anaconda3/envs/my_default/lib/python3.7/site-packages/ipykernel_launcher.py:3: MatplotlibDeprecationWarning: \n",
      "The 'normed' kwarg was deprecated in Matplotlib 2.1 and will be removed in 3.1. Use 'density' instead.\n",
      "  This is separate from the ipykernel package so we can avoid doing imports until\n",
      "/Users/ryancloutier/anaconda3/envs/my_default/lib/python3.7/site-packages/numpy/lib/histograms.py:824: RuntimeWarning: invalid value encountered in greater_equal\n",
      "  keep = (tmp_a >= first_edge)\n",
      "/Users/ryancloutier/anaconda3/envs/my_default/lib/python3.7/site-packages/numpy/lib/histograms.py:825: RuntimeWarning: invalid value encountered in less_equal\n",
      "  keep &= (tmp_a <= last_edge)\n"
     ]
    },
    {
     "data": {
      "image/png": "[encoded data removed]",
      "text/plain": [
       "<Figure size 432x288 with 1 Axes>"
      ]
     },
     "metadata": {
      "needs_background": "light"
     },
     "output_type": "display_data"
    }
   ],
   "source": [
    "# plot results\n",
    "_=plt.hist(mppost, bins=15, histtype='step', color='b', normed=1)\n",
    "p=plt.hist(tps.corepoweredmassloss.planet_gaseous.Mmin_solution_samples, bins=15, histtype='step', color='k', lw=2, normed=1)\n",
    "plt.xlabel('Minimum mass [M$_{\\oplus}$]', fontsize=12), plt.ylabel('Number of realizations', fontsize=12)\n",
    "plt.axvline(tps.corepoweredmassloss.planet_gaseous.Mmin_solution[0], color='k')\n",
    "plt.axvline(tps.corepoweredmassloss.planet_gaseous.mass[0], ls='--', color='b')\n",
    "plt.fill_between([tps.corepoweredmassloss.planet_gaseous.Mmin_solution[0]-tps.corepoweredmassloss.planet_gaseous.Mmin_solution[2],\n",
    "                  tps.corepoweredmassloss.planet_gaseous.Mmin_solution[0]+tps.corepoweredmassloss.planet_gaseous.Mmin_solution[1]], 0, p[0].max(), color='k', alpha=.2)\n",
    "print('Gaseous planet measured mass = %.3f + %.3f - %.3f Earth masses'%(tps.planet_gaseous.mass))\n",
    "print('Gaseous planet minimum mass = %.3f + %.3f - %.3f Earth masses'%(tps.corepoweredmassloss.planet_gaseous.Mmin_solution))\n",
    "print('Core-powered mass loss consistency rate = %.3f'%tps.corepoweredmassloss.planet_gaseous.frac_consistent_corepoweredmassloss)\n",
    "print('Core-powered mass loss model success rate = %.3f'%tps.corepoweredmassloss.planet_gaseous.frac_success_corepoweredmassloss)"
   ]
  },
  {
   "cell_type": "markdown",
   "metadata": {},
   "source": [
    "## test gas-poor formation scenario"
   ]
  },
  {
   "cell_type": "code",
   "execution_count": 7,
   "metadata": {},
   "outputs": [
    {
     "name": "stderr",
     "output_type": "stream",
     "text": [
      "[===                                                                     ]   5%\r"
     ]
    },
    {
     "name": "stdout",
     "output_type": "stream",
     "text": [
      "\n",
      "Computing the gaseous planet's minimum mass under gas-poor formation (100 realizations)\n",
      "\n"
     ]
    },
    {
     "name": "stderr",
     "output_type": "stream",
     "text": [
      "[========================================================================] 100%\r"
     ]
    },
    {
     "name": "stdout",
     "output_type": "stream",
     "text": [
      "Time elapsed = 5.0 seconds (0.08 minutes).\n"
     ]
    },
    {
     "name": "stderr",
     "output_type": "stream",
     "text": [
      "\n"
     ]
    }
   ],
   "source": [
    "tps.compute_Mgas_min_gaspoorformation(value_errors=False, size=100)"
   ]
  },
  {
   "cell_type": "code",
   "execution_count": 8,
   "metadata": {},
   "outputs": [
    {
     "name": "stderr",
     "output_type": "stream",
     "text": [
      "/Users/ryancloutier/anaconda3/envs/my_default/lib/python3.7/site-packages/ipykernel_launcher.py:2: MatplotlibDeprecationWarning: \n",
      "The 'normed' kwarg was deprecated in Matplotlib 2.1 and will be removed in 3.1. Use 'density' instead.\n",
      "  \n",
      "/Users/ryancloutier/anaconda3/envs/my_default/lib/python3.7/site-packages/ipykernel_launcher.py:3: MatplotlibDeprecationWarning: \n",
      "The 'normed' kwarg was deprecated in Matplotlib 2.1 and will be removed in 3.1. Use 'density' instead.\n",
      "  This is separate from the ipykernel package so we can avoid doing imports until\n"
     ]
    },
    {
     "name": "stdout",
     "output_type": "stream",
     "text": [
      "Gaseous planet measured mass = 8.235 + 1.290 - 1.692 Earth masses\n",
      "Gaseous planet minimum mass = 9.515 + 1.356 - 1.841 Earth masses\n",
      "Gas-poor formation consistency rate = 0.360\n"
     ]
    },
    {
     "ename": "AttributeError",
     "evalue": "'planet' object has no attribute 'frac_succes_gaspoorformation'",
     "output_type": "error",
     "traceback": [
      "\u001b[0;31m---------------------------------------------------------------------------\u001b[0m",
      "\u001b[0;31mAttributeError\u001b[0m                            Traceback (most recent call last)",
      "\u001b[0;32m<ipython-input-8-c15959e6182c>\u001b[0m in \u001b[0;36m<module>\u001b[0;34m\u001b[0m\n\u001b[1;32m     10\u001b[0m \u001b[0mprint\u001b[0m\u001b[0;34m(\u001b[0m\u001b[0;34m'Gaseous planet minimum mass = %.3f + %.3f - %.3f Earth masses'\u001b[0m\u001b[0;34m%\u001b[0m\u001b[0;34m(\u001b[0m\u001b[0mtps\u001b[0m\u001b[0;34m.\u001b[0m\u001b[0mgaspoorformation\u001b[0m\u001b[0;34m.\u001b[0m\u001b[0mplanet_gaseous\u001b[0m\u001b[0;34m.\u001b[0m\u001b[0mMmin_solution\u001b[0m\u001b[0;34m)\u001b[0m\u001b[0;34m)\u001b[0m\u001b[0;34m\u001b[0m\u001b[0;34m\u001b[0m\u001b[0m\n\u001b[1;32m     11\u001b[0m \u001b[0mprint\u001b[0m\u001b[0;34m(\u001b[0m\u001b[0;34m'Gas-poor formation consistency rate = %.3f'\u001b[0m\u001b[0;34m%\u001b[0m\u001b[0mtps\u001b[0m\u001b[0;34m.\u001b[0m\u001b[0mgaspoorformation\u001b[0m\u001b[0;34m.\u001b[0m\u001b[0mplanet_gaseous\u001b[0m\u001b[0;34m.\u001b[0m\u001b[0mfrac_consistent_gaspoorformation\u001b[0m\u001b[0;34m)\u001b[0m\u001b[0;34m\u001b[0m\u001b[0;34m\u001b[0m\u001b[0m\n\u001b[0;32m---> 12\u001b[0;31m \u001b[0mprint\u001b[0m\u001b[0;34m(\u001b[0m\u001b[0;34m'Gas-poor formation model success rate = %.3f'\u001b[0m\u001b[0;34m%\u001b[0m\u001b[0mtps\u001b[0m\u001b[0;34m.\u001b[0m\u001b[0mgaspoorformation\u001b[0m\u001b[0;34m.\u001b[0m\u001b[0mplanet_gaseous\u001b[0m\u001b[0;34m.\u001b[0m\u001b[0mfrac_succes_gaspoorformation\u001b[0m\u001b[0;34m)\u001b[0m\u001b[0;34m\u001b[0m\u001b[0;34m\u001b[0m\u001b[0m\n\u001b[0m",
      "\u001b[0;31mAttributeError\u001b[0m: 'planet' object has no attribute 'frac_succes_gaspoorformation'"
     ]
    },
    {
     "data": {
      "image/png": "[encoded data removed]",
      "text/plain": [
       "<Figure size 432x288 with 1 Axes>"
      ]
     },
     "metadata": {
      "needs_background": "light"
     },
     "output_type": "display_data"
    }
   ],
   "source": [
    "# plot results\n",
    "_=plt.hist(mppost, bins=15, histtype='step', color='b', normed=1)\n",
    "p=plt.hist(tps.gaspoorformation.planet_gaseous.Mmin_solution_samples, bins=15, normed=1, histtype='step', color='k', lw=2)\n",
    "plt.xlabel('Minimum mass [M$_{\\oplus}$]', fontsize=12), plt.ylabel('Number of realizations', fontsize=12)\n",
    "plt.axvline(tps.gaspoorformation.planet_gaseous.Mmin_solution[0], color='k')\n",
    "plt.axvline(tps.gaspoorformation.planet_gaseous.mass[0], ls='--', color='b')\n",
    "plt.fill_between([tps.gaspoorformation.planet_gaseous.Mmin_solution[0]-tps.gaspoorformation.planet_gaseous.Mmin_solution[2],\n",
    "                  tps.gaspoorformation.planet_gaseous.Mmin_solution[0]+tps.gaspoorformation.planet_gaseous.Mmin_solution[1]], 0, p[0].max(), color='k', alpha=.2)\n",
    "print('Gaseous planet measured mass = %.3f + %.3f - %.3f Earth masses'%(tps.planet_gaseous.mass))\n",
    "print('Gaseous planet minimum mass = %.3f + %.3f - %.3f Earth masses'%(tps.gaspoorformation.planet_gaseous.Mmin_solution))\n",
    "print('Gas-poor formation consistency rate = %.3f'%tps.gaspoorformation.planet_gaseous.frac_consistent_gaspoorformation)\n",
    "print('Gas-poor formation model success rate = %.3f'%tps.gaspoorformation.planet_gaseous.frac_succes_gaspoorformation)"
   ]
  },
  {
   "cell_type": "code",
   "execution_count": null,
   "metadata": {},
   "outputs": [],
   "source": []
  }
 ],
 "metadata": {
  "kernelspec": {
   "display_name": "Python 3",
   "language": "python",
   "name": "python3"
  },
  "language_info": {
   "codemirror_mode": {
    "name": "ipython",
    "version": 3
   },
   "file_extension": ".py",
   "mimetype": "text/x-python",
   "name": "python",
   "nbconvert_exporter": "python",
   "pygments_lexer": "ipython3",
   "version": "3.7.4"
  }
 },
 "nbformat": 4,
 "nbformat_minor": 2
}
