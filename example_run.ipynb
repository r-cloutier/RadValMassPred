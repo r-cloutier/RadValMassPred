{
 "cells": [
  {
   "cell_type": "code",
   "execution_count": 1,
   "metadata": {},
   "outputs": [],
   "source": [
    "from masspred_system import two_planet_system, np, plt\n",
    "import radvalley_definitions as rvdef\n",
    "%matplotlib inline"
   ]
  },
  {
   "cell_type": "code",
   "execution_count": 2,
   "metadata": {},
   "outputs": [],
   "source": [
    "# define Kepler-36 planetary system\n",
    "kep36 = 0\n",
    "if kep36:\n",
    "    N = 100\n",
    "    Xiron_samp = np.random.normal(1/3,.02,N)\n",
    "    Xiron_samp = Xiron_samp[Xiron_samp>=0]\n",
    "\n",
    "    tps = two_planet_system(rvdef.define_radval_simple, N, label='Kep36')\n",
    "    tps.add_star(np.random.normal(1.071,.043,N), np.random.normal(1.626,.019,N), np.random.normal(5911,66,N))\n",
    "    tps.add_planet(13.83989, np.random.normal(1.486,.035,N), np.random.normal(4.45,.3,N), Xiron_samp)\n",
    "    tps.add_planet(16.23855, np.random.normal(3.679,.054,N), np.random.normal(8.08,.55,N), Xiron_samp)\n",
    "    #tps.add_star(1.071, 1.626, 5911)\n",
    "    #tps.add_planet(13.83989, 1.486, 4.45, 1/3)\n",
    "    #tps.add_planet(16.23855, 3.679, 8.08, 1/3)"
   ]
  },
  {
   "cell_type": "code",
   "execution_count": 2,
   "metadata": {},
   "outputs": [],
   "source": [
    "# define LTT 3780 planetary system\n",
    "ltt3780 = 1\n",
    "if ltt3780:\n",
    "    N = 100\n",
    "    Xiron_samp = np.random.normal(1/3,.02,N)\n",
    "\n",
    "    tps = two_planet_system(rvdef.define_radval_lowmassstar, N, label='ltt3780')\n",
    "    tps.add_star(np.random.normal(.401,.012,N), np.random.normal(.374,.011,N), np.random.normal(3331,157,N))\n",
    "    tps.add_planet(.77, np.random.normal(1.33,.075,N), np.random.normal(3.12,.5,N), Xiron_samp, radval_args=[.77])\n",
    "    tps.add_planet(12.25, np.random.normal(2.3,.16,N), np.random.normal(8.5,1.65,N), Xiron_samp, radval_args=[12.25])"
   ]
  },
  {
   "cell_type": "markdown",
   "metadata": {},
   "source": [
    "## test photoevaporation scenario"
   ]
  },
  {
   "cell_type": "code",
   "execution_count": null,
   "metadata": {},
   "outputs": [
    {
     "name": "stderr",
     "output_type": "stream",
     "text": [
      "[                                                                        ]   1%\r"
     ]
    },
    {
     "name": "stdout",
     "output_type": "stream",
     "text": [
      "\n",
      "Computing the gaseous planet's minimum mass under photoevaporation (100 realizations)\n",
      "\n"
     ]
    },
    {
     "name": "stderr",
     "output_type": "stream",
     "text": [
      "/Users/ryancloutier/anaconda3/envs/my_default/lib/python3.7/site-packages/scipy/optimize/minpack.py:162: RuntimeWarning: The iteration is not making good progress, as measured by the \n",
      "  improvement from the last ten iterations.\n",
      "  warnings.warn(msg, RuntimeWarning)\n",
      "/Users/ryancloutier/Research/RadValMassPred/planetary_structure.py:81: RuntimeWarning: divide by zero encountered in log10\n",
      "  DR_solution = 10**float(fsolve(_solve_Rrcb, np.log10(DR_guess), args=args))\n",
      "/Users/ryancloutier/Research/RadValMassPred/planetary_structure.py:56: RuntimeWarning: invalid value encountered in true_divide\n",
      "  I2_I1 = I2/I1\n",
      "/Users/ryancloutier/Research/RadValMassPred/planetary_structure.py:62: RuntimeWarning: divide by zero encountered in double_scalars\n",
      "  rhorcb *= (3*kappa0 * Mearth2g(Mcore)*Xenv)**(-a)\n",
      "[=========================                                               ]  36%\r"
     ]
    }
   ],
   "source": [
    "tps.compute_Mgas_min_photoevaporation(value_errors=False, size=100)"
   ]
  },
  {
   "cell_type": "code",
   "execution_count": null,
   "metadata": {},
   "outputs": [],
   "source": [
    "# plot results\n",
    "mppost = np.random.randn(1000)*tps.planet_gaseous.mass[1] + tps.planet_gaseous.mass[0]\n",
    "_=plt.hist(mppost, bins=15, histtype='step', color='b', normed=1)\n",
    "p=plt.hist(tps.photoevaporation.planet_gaseous.Mmin_solution_samples, bins=15, normed=1, histtype='step', color='k', lw=2)\n",
    "plt.xlabel('Minimum mass [M$_{\\oplus}$]', fontsize=12), plt.ylabel('PDF', fontsize=12)\n",
    "plt.axvline(tps.photoevaporation.planet_gaseous.Mmin_solution[0], color='k')\n",
    "plt.axvline(tps.photoevaporation.planet_gaseous.mass[0], ls='--', color='b')\n",
    "plt.fill_between([tps.photoevaporation.planet_gaseous.Mmin_solution[0]-tps.photoevaporation.planet_gaseous.Mmin_solution[2],\n",
    "                  tps.photoevaporation.planet_gaseous.Mmin_solution[0]+tps.photoevaporation.planet_gaseous.Mmin_solution[1]], 0, 1, alpha=.5)\n",
    "print('Gaseous planet measured mass = %.3f + %.3f - %.3f Earth masses'%(tps.planet_gaseous.mass))\n",
    "print('Gaseous planet minimum mass = %.3f + %.3f - %.3f Earth masses'%(tps.photoevaporation.planet_gaseous.Mmin_solution))\n",
    "print('Photoevaporation consistency rate = %.3f'%tps.photoevaporation.planet_gaseous.frac_consistent_photoevap)\n",
    "print('Photoevaporation model success rate = %.3f'%tps.photoevaporation.planet_gaseous.frac_success_photoevap)"
   ]
  },
  {
   "cell_type": "markdown",
   "metadata": {},
   "source": [
    "## test core-powered mass loss scenario"
   ]
  },
  {
   "cell_type": "code",
   "execution_count": null,
   "metadata": {},
   "outputs": [],
   "source": [
    "tps.compute_Mgas_min_corepoweredmassloss(value_errors=False, size=100)"
   ]
  },
  {
   "cell_type": "code",
   "execution_count": null,
   "metadata": {},
   "outputs": [],
   "source": [
    "# plot results\n",
    "_=plt.hist(mppost, bins=15, histtype='step', color='b', normed=1)\n",
    "p=plt.hist(tps.corepoweredmassloss.planet_gaseous.Mmin_solution_samples, bins=15, histtype='step', color='k', lw=2, normed=1)\n",
    "plt.xlabel('Minimum mass [M$_{\\oplus}$]', fontsize=12), plt.ylabel('Number of realizations', fontsize=12)\n",
    "plt.axvline(tps.corepoweredmassloss.planet_gaseous.Mmin_solution[0], color='k')\n",
    "plt.axvline(tps.corepoweredmassloss.planet_gaseous.mass[0], ls='--', color='b')\n",
    "plt.fill_between([tps.corepoweredmassloss.planet_gaseous.Mmin_solution[0]-tps.corepoweredmassloss.planet_gaseous.Mmin_solution[2],\n",
    "                  tps.corepoweredmassloss.planet_gaseous.Mmin_solution[0]+tps.corepoweredmassloss.planet_gaseous.Mmin_solution[1]], 0, p[0].max(), color='k', alpha=.2)\n",
    "print('Gaseous planet measured mass = %.3f + %.3f - %.3f Earth masses'%(tps.planet_gaseous.mass))\n",
    "print('Gaseous planet minimum mass = %.3f + %.3f - %.3f Earth masses'%(tps.corepoweredmassloss.planet_gaseous.Mmin_solution))\n",
    "print('Core-powered mass loss consistency rate = %.3f'%tps.corepoweredmassloss.planet_gaseous.frac_consistent_corepoweredmassloss)\n",
    "print('Core-powered mass loss model success rate = %.3f'%tps.corepoweredmassloss.planet_gaseous.frac_success_corepoweredmassloss)"
   ]
  },
  {
   "cell_type": "markdown",
   "metadata": {},
   "source": [
    "## test gas-poor formation scenario"
   ]
  },
  {
   "cell_type": "code",
   "execution_count": null,
   "metadata": {},
   "outputs": [],
   "source": [
    "tps.compute_Mgas_min_gaspoorformation(value_errors=False, size=100)"
   ]
  },
  {
   "cell_type": "code",
   "execution_count": null,
   "metadata": {},
   "outputs": [],
   "source": [
    "# plot results\n",
    "_=plt.hist(mppost, bins=15, histtype='step', color='b', normed=1)\n",
    "p=plt.hist(tps.gaspoorformation.planet_gaseous.Mmin_solution_samples, bins=15, normed=1, histtype='step', color='k', lw=2)\n",
    "plt.xlabel('Minimum mass [M$_{\\oplus}$]', fontsize=12), plt.ylabel('Number of realizations', fontsize=12)\n",
    "plt.axvline(tps.gaspoorformation.planet_gaseous.Mmin_solution[0], color='k')\n",
    "plt.axvline(tps.gaspoorformation.planet_gaseous.mass[0], ls='--', color='b')\n",
    "plt.fill_between([tps.gaspoorformation.planet_gaseous.Mmin_solution[0]-tps.gaspoorformation.planet_gaseous.Mmin_solution[2],\n",
    "                  tps.gaspoorformation.planet_gaseous.Mmin_solution[0]+tps.gaspoorformation.planet_gaseous.Mmin_solution[1]], 0, p[0].max(), color='k', alpha=.2)\n",
    "print('Gaseous planet measured mass = %.3f + %.3f - %.3f Earth masses'%(tps.planet_gaseous.mass))\n",
    "print('Gaseous planet minimum mass = %.3f + %.3f - %.3f Earth masses'%(tps.gaspoorformation.planet_gaseous.Mmin_solution))\n",
    "print('Gas-poor formation consistency rate = %.3f'%tps.gaspoorformation.planet_gaseous.frac_consistent_gaspoorformation)\n",
    "print('Gas-poor formation model success rate = %.3f'%tps.gaspoorformation.planet_gaseous.frac_succes_gaspoorformation)"
   ]
  },
  {
   "cell_type": "code",
   "execution_count": null,
   "metadata": {},
   "outputs": [],
   "source": []
  }
 ],
 "metadata": {
  "kernelspec": {
   "display_name": "Python 3",
   "language": "python",
   "name": "python3"
  },
  "language_info": {
   "codemirror_mode": {
    "name": "ipython",
    "version": 3
   },
   "file_extension": ".py",
   "mimetype": "text/x-python",
   "name": "python",
   "nbconvert_exporter": "python",
   "pygments_lexer": "ipython3",
   "version": "3.7.4"
  }
 },
 "nbformat": 4,
 "nbformat_minor": 2
}
