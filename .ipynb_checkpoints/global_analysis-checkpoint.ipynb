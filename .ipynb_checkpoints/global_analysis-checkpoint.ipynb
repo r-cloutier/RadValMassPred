{
 "cells": [
  {
   "cell_type": "code",
   "execution_count": 1,
   "metadata": {},
   "outputs": [],
   "source": [
    "from masspred_system import *\n",
    "import radvalley_definitions as rvdef\n",
    "%matplotlib inline"
   ]
  },
  {
   "cell_type": "markdown",
   "metadata": {},
   "source": [
    "## run each model on a set of planetary systems and save the results"
   ]
  },
  {
   "cell_type": "code",
   "execution_count": null,
   "metadata": {},
   "outputs": [],
   "source": [
    "# define CMF\n",
    "N = 1000\n",
    "Xiron_samp = np.random.normal(1/3,.05,N)\n",
    "Xiron_samp = Xiron_samp[Xiron_samp>=0]"
   ]
  },
  {
   "cell_type": "code",
   "execution_count": 26,
   "metadata": {},
   "outputs": [],
   "source": [
    "# define systems of interest\n",
    "labels = ['Kep36','LTT 3780']\n",
    "M_star = [[1.071,.043],[.401,.012]]\n",
    "R_star = [[1.626,.019],[.374,.011]]\n",
    "Teff = [[5911,66],[3331,157]]\n",
    "Nsyst = len(M_star)\n",
    "\n",
    "# planet 1\n",
    "P_1 = [13.83989,0.768388]\n",
    "rp_1 = [[1.486,.035],[1.332,.074]]\n",
    "mp_1 = [[4.45,.3],[2.62,.47]]\n",
    "\n",
    "# planet 2\n",
    "P_2 = [16.23855,12.25204]\n",
    "rp_2 = [[3.679,.054],[2.30,.16]]\n",
    "mp_2 = [[8.08,.55],[8.6,1.45]]"
   ]
  },
  {
   "cell_type": "code",
   "execution_count": null,
   "metadata": {},
   "outputs": [
    {
     "name": "stderr",
     "output_type": "stream",
     "text": [
      "[                                                                        ]   1%\r"
     ]
    },
    {
     "name": "stdout",
     "output_type": "stream",
     "text": [
      "Running Kep36...\n",
      "\n",
      "Computing the gaseous planet's minimum mass under photoevaporation (100 realizations)\n",
      "\n"
     ]
    },
    {
     "name": "stderr",
     "output_type": "stream",
     "text": [
      "[========================================================================] 100%\n",
      "/Users/ryancloutier/anaconda3/envs/myenv/lib/python3.8/site-packages/numpy/lib/nanfunctions.py:1370: RuntimeWarning: All-NaN slice encountered\n",
      "  r, k = function_base._ureduce(\n",
      "[                                                                        ]   1%\r"
     ]
    },
    {
     "name": "stdout",
     "output_type": "stream",
     "text": [
      "Time elapsed = 418.8 seconds (6.98 minutes).\n",
      "\n",
      "Computing the gaseous planet's minimum mass under core-powered mass loss (100 realizations)\n",
      "\n"
     ]
    },
    {
     "name": "stderr",
     "output_type": "stream",
     "text": [
      "[========================================================================] 100%\n",
      "[==                                                                      ]   4%\r"
     ]
    },
    {
     "name": "stdout",
     "output_type": "stream",
     "text": [
      "Time elapsed = 1365.6 seconds (22.76 minutes).\n",
      "\n",
      "Computing the gaseous planet's minimum mass under gas-poor formation (100 realizations)\n",
      "\n"
     ]
    },
    {
     "name": "stderr",
     "output_type": "stream",
     "text": [
      "[========================================================================] 100%\n",
      "[                                                                        ]   1%\r"
     ]
    },
    {
     "name": "stdout",
     "output_type": "stream",
     "text": [
      "Time elapsed = 6.2 seconds (0.10 minutes).\n",
      "Running LTT 3780...\n",
      "\n",
      "Computing the gaseous planet's minimum mass under photoevaporation (100 realizations)\n",
      "\n"
     ]
    },
    {
     "name": "stderr",
     "output_type": "stream",
     "text": [
      "[===================================                                     ]  49%\r"
     ]
    }
   ],
   "source": [
    "# compute models for each system\n",
    "for i in range(Nsyst):\n",
    "    \n",
    "    # define planetary system\n",
    "    print('Running %s...'%labels[i])\n",
    "    tps = two_planet_system(rvdef.define_radval_simple, N, label=labels[i])\n",
    "    tps.add_star(np.random.normal(M_star[i][0], M_star[i][1], N), \n",
    "                 np.random.normal(R_star[i][0], R_star[i][1], N),\n",
    "                 np.random.normal(Teff[i][0], Teff[i][1], N))\n",
    "    tps.add_planet(P_1[i], \n",
    "                   np.random.normal(rp_1[i][0], rp_1[i][1], N),\n",
    "                   np.random.normal(mp_1[i][0], mp_1[i][1], N), Xiron_samp)\n",
    "    tps.add_planet(P_2[i], \n",
    "                   np.random.normal(rp_2[i][0], rp_2[i][1], N),\n",
    "                   np.random.normal(mp_2[i][0], mp_2[i][1], N), Xiron_samp)\n",
    "    \n",
    "    if not tps._is_complete:\n",
    "        pass\n",
    "    \n",
    "    # compute model minimum masses\n",
    "    Nreal = 100\n",
    "    tps.compute_Mgas_min_photoevaporation(value_errors=False, size=Nreal)\n",
    "    tps.compute_Mgas_min_corepoweredmassloss(value_errors=False, size=Nreal)\n",
    "    tps.compute_Mgas_min_gaspoorformation(value_errors=False, size=Nreal)\n",
    "    \n",
    "    # save results for this planetary system\n",
    "    try:\n",
    "        os.mkdir('Results')\n",
    "    except FileExistsError:\n",
    "        pass\n",
    "    tps.dump_pickle('Results/tps_%s'%labels[i].replace(' ',''), overwrite=False)"
   ]
  },
  {
   "cell_type": "markdown",
   "metadata": {},
   "source": [
    "## get results and plot them"
   ]
  },
  {
   "cell_type": "code",
   "execution_count": null,
   "metadata": {},
   "outputs": [],
   "source": [
    "# consolidate results for plotting\n",
    "fs = np.array(glob.glob('Results/tps_*'))\n",
    "\n",
    "Ms = np.zeros((fs.size,2))\n",
    "consistency_rates = np.zeros((fs.size,3)) # PE, CPML, GPF\n",
    "for i,f in enumerate(fs):\n",
    "    self = load_pickle(f)\n",
    "    Ms[i] = self.star.mass[0], np.mean(self.star.mass[1:])\n",
    "    consistency_rates[i,0] = self.photoevaporation.planet_gaseous.frac_consistent\n",
    "    consistency_rates[i,1] = self.corepoweredmassloss.planet_gaseous.frac_consistent\n",
    "    consistency_rates[i,2] = self.gaspoorformation.planet_gaseous.frac_consistent"
   ]
  },
  {
   "cell_type": "code",
   "execution_count": null,
   "metadata": {},
   "outputs": [],
   "source": [
    "# plot\n",
    "fig, ax = plt.subplots(1, 1, figsize=(10,5))\n",
    "ax.errorbar(Ms[:,0], consistency_rates[:,0], xerr=Ms[:,1], fmt='ko', ms=0)"
   ]
  }
 ],
 "metadata": {
  "kernelspec": {
   "display_name": "Python 3",
   "language": "python",
   "name": "python3"
  },
  "language_info": {
   "codemirror_mode": {
    "name": "ipython",
    "version": 3
   },
   "file_extension": ".py",
   "mimetype": "text/x-python",
   "name": "python",
   "nbconvert_exporter": "python",
   "pygments_lexer": "ipython3",
   "version": "3.8.2"
  }
 },
 "nbformat": 4,
 "nbformat_minor": 4
}
